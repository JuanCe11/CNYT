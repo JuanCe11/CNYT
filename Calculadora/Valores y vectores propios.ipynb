{
 "cells": [
  {
   "cell_type": "code",
   "execution_count": 13,
   "metadata": {},
   "outputs": [
    {
     "name": "stdout",
     "output_type": "stream",
     "text": [
      "[ 5.+3.24494204e-17j  2.+4.99456872e-16j -4.-2.65249044e-16j\n",
      " -3.+3.99476566e-16j]\n",
      "\n",
      "[[-5.00000000e-01-5.47114378e-17j -5.00000000e-01+8.25960522e-17j\n",
      "  -3.70055538e-16+5.00000000e-01j  5.00000000e-01+1.01169245e-17j]\n",
      " [ 3.38418957e-16-5.00000000e-01j -7.80453176e-17+5.00000000e-01j\n",
      "  -5.00000000e-01+1.15823807e-16j -2.38477895e-16-5.00000000e-01j]\n",
      " [ 1.93573579e-16-5.00000000e-01j  1.33431808e-16+5.00000000e-01j\n",
      "   5.00000000e-01+0.00000000e+00j  4.63699982e-17+5.00000000e-01j]\n",
      " [ 5.00000000e-01+0.00000000e+00j  5.00000000e-01+0.00000000e+00j\n",
      "  -4.40368625e-16+5.00000000e-01j  5.00000000e-01+0.00000000e+00j]]\n"
     ]
    }
   ],
   "source": [
    "import numpy as np\n",
    "from numpy import linalg as LA\n",
    "omega = [[0, -0.5j, -1j, -3.5],\n",
    "         [0.5j, 0, 3.5, -1j],\n",
    "         [1j, 3.5, 0, -0.5j],\n",
    "         [-3.5, 1j, 0.5j, 0]]\n",
    "observable = np.array(omega)\n",
    "(w, v) = LA.eig(observable)\n",
    "print(\"Valores propios\\n\")\n",
    "print(w)\n",
    "print(\"\\nVectores propios\\n\")\n",
    "print(v)\n"
   ]
  },
  {
   "cell_type": "code",
   "execution_count": null,
   "metadata": {},
   "outputs": [],
   "source": []
  },
  {
   "cell_type": "code",
   "execution_count": null,
   "metadata": {},
   "outputs": [],
   "source": []
  }
 ],
 "metadata": {
  "kernelspec": {
   "display_name": "Python 3",
   "language": "python",
   "name": "python3"
  },
  "language_info": {
   "codemirror_mode": {
    "name": "ipython",
    "version": 3
   },
   "file_extension": ".py",
   "mimetype": "text/x-python",
   "name": "python",
   "nbconvert_exporter": "python",
   "pygments_lexer": "ipython3",
   "version": "3.7.3"
  }
 },
 "nbformat": 4,
 "nbformat_minor": 2
}
